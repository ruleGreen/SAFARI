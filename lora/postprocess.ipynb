{
 "cells": [
  {
   "cell_type": "code",
   "execution_count": 7,
   "metadata": {},
   "outputs": [],
   "source": [
    "import json\n",
    "\n",
    "input_path = \"./belle_dpr_1_output.json\"\n",
    "with open(input_path, \"r\", encoding=\"utf-8\") as f:\n",
    "    raw_data = json.load(f)\n",
    "\n",
    "result = []\n",
    "for sample in raw_data:\n",
    "    resp = sample['resp']\n",
    "    resp = resp.split(\"Assistant:\")[1].split(\"系统:\")[1]\n",
    "    sample[\"resp\"] = resp.replace(\"</s>\", \"\").strip()[:128]\n",
    "    result.append(sample)\n",
    "\n",
    "with open(\"./belle_post_dpr_1_output.json\", \"w\") as f:\n",
    "    json.dump(result, f, indent=4, ensure_ascii=False)\n",
    "    \n"
   ]
  }
 ],
 "metadata": {
  "kernelspec": {
   "display_name": "llm",
   "language": "python",
   "name": "python3"
  },
  "language_info": {
   "codemirror_mode": {
    "name": "ipython",
    "version": 3
   },
   "file_extension": ".py",
   "mimetype": "text/x-python",
   "name": "python",
   "nbconvert_exporter": "python",
   "pygments_lexer": "ipython3",
   "version": "3.8.16"
  },
  "orig_nbformat": 4
 },
 "nbformat": 4,
 "nbformat_minor": 2
}
